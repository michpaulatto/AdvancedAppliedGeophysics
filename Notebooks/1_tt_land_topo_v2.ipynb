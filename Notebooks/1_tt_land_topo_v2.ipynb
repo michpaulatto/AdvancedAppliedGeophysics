{
  "nbformat": 4,
  "nbformat_minor": 0,
  "metadata": {
    "colab": {
      "name": "1_tt_land_topo.ipynb",
      "provenance": [],
      "collapsed_sections": [],
      "authorship_tag": "ABX9TyPbQagM8lL1DYV6MytzSY1f"
    },
    "kernelspec": {
      "name": "python3",
      "display_name": "Python 3"
    }
  },
  "cells": [
    {
      "cell_type": "markdown",
      "metadata": {
        "id": "jxokEpijOwr-"
      },
      "source": [
        "# Traveltime tomography exercise\n",
        "Created by Michele Paulatto, Imperial College London\n",
        "\n",
        "https://github.com/michpaulatto/AppliedGeophysicsExercises\n",
        "\n",
        "Developed for Google Colab\n",
        "\n",
        "# Introduction\n",
        "This is an exercise to demonstrate traveltime tomography. This environment is a Jupyter notebook (https://jupyter.org/), an open-source application for creating interactive modular code. This exercise is written in the Python programming language. You do not need to be an expert in Python or Jupyter to run through the exercise.\n",
        "\n",
        "For a refresher on Python check out this exercise:\n",
        "\n",
        "https://colab.research.google.com/github/cs231n/cs231n.github.io/blob/master/python-colab.ipynb\n",
        "\n",
        "For a specific intro on Colab check out the following exercise:\n",
        "\n",
        "https://colab.research.google.com/notebooks/basic_features_overview.ipynb\n",
        "\n",
        "The main tool we use is a library called Pygimli:\n",
        "\n",
        "https://www.pygimli.org/pygimliapi/index.html\n",
        "\n",
        "Further exercises can be found here:\n",
        "\n",
        "https://www.pygimli.org/_examples_auto/index.html\n",
        "\n",
        "# Environment setup\n",
        "We need to set up the Python environment before we start. If running the exercise on your local machine the setup would have to be modified. We need to install Anaconda (https://www.anaconda.com/) and use it to install Pygimli. Some of the operations in the setup are a bit advanced and are beyond the scope of this exercise. So just run the following two code cells and move on. This may take a couple of minutes so be patient. If running this Notebook on Google Colab you may get a warning that the Notebook was not authored by Google, click OK and continue."
      ]
    },
    {
      "cell_type": "code",
      "metadata": {
        "colab": {
          "base_uri": "https://localhost:8080/"
        },
        "id": "WQg3atMq8FeN",
        "outputId": "d953967d-8e21-4808-f196-1b261165d2dc"
      },
      "source": [
        "%%bash\n",
        "PYTHONPATH=\"\"\n",
        "MINICONDA_INSTALLER_SCRIPT=Miniconda3-4.5.4-Linux-x86_64.sh\n",
        "MINICONDA_PREFIX=/usr/local\n",
        "wget https://repo.continuum.io/miniconda/$MINICONDA_INSTALLER_SCRIPT &> setup.log\n",
        "chmod +x $MINICONDA_INSTALLER_SCRIPT\n",
        "./$MINICONDA_INSTALLER_SCRIPT -b -f -p $MINICONDA_PREFIX &>> setup.log\n",
        "echo \"Miniconda installed\""
      ],
      "execution_count": 5,
      "outputs": [
        {
          "output_type": "stream",
          "text": [
            "Miniconda installed\n"
          ],
          "name": "stdout"
        }
      ]
    },
    {
      "cell_type": "code",
      "metadata": {
        "colab": {
          "base_uri": "https://localhost:8080/"
        },
        "id": "BNalxRsk8uvo",
        "outputId": "4774efeb-a126-4b36-e2f5-6bf5573edff8"
      },
      "source": [
        "!conda install --channel defaults conda python=3.6 --yes &>> setup.log\n",
        "!conda update --channel defaults --all --yes &>> setup.log\n",
        "print(\"Anaconda updated and set up\")\n",
        "import sys\n",
        "sys.path\n",
        "_ = (sys.path.append(\"/usr/local/lib/python3.6/site-packages\"))\n",
        "\n",
        "!conda install pygimli -c gimli -c conda-forge --yes &>> setup.log\n",
        "print(\"Pygimli installed\")"
      ],
      "execution_count": 9,
      "outputs": [
        {
          "output_type": "stream",
          "text": [
            "Anaconda updated and set up\n",
            "Pygimli installed\n"
          ],
          "name": "stdout"
        }
      ]
    },
    {
      "cell_type": "markdown",
      "metadata": {
        "id": "8VN3rlevRiES"
      },
      "source": [
        "# Python modules\n",
        "Here we load the python modules that we will need for the exercise, including Pygimli."
      ]
    },
    {
      "cell_type": "code",
      "metadata": {
        "colab": {
          "base_uri": "https://localhost:8080/",
          "height": 368
        },
        "id": "rKRdIXJ5__3j",
        "outputId": "d8088008-d6f4-441c-918a-a01f8fbbfae5"
      },
      "source": [
        "import matplotlib.pyplot as plt\n",
        "import numpy as np\n",
        "import pygimli as pg\n",
        "import pygimli.meshtools as mt\n",
        "from pygimli.physics.traveltime import TravelTimeManager\n",
        "from pygimli.viewer.mpl import drawMesh\n",
        "pg.utils.units.quants['vel']['cMap'] = 'inferno_r'"
      ],
      "execution_count": 10,
      "outputs": [
        {
          "output_type": "error",
          "ename": "ModuleNotFoundError",
          "evalue": "ignored",
          "traceback": [
            "\u001b[0;31m---------------------------------------------------------------------------\u001b[0m",
            "\u001b[0;31mModuleNotFoundError\u001b[0m                       Traceback (most recent call last)",
            "\u001b[0;32m<ipython-input-10-df0046f83735>\u001b[0m in \u001b[0;36m<module>\u001b[0;34m()\u001b[0m\n\u001b[1;32m      1\u001b[0m \u001b[0;32mimport\u001b[0m \u001b[0mmatplotlib\u001b[0m\u001b[0;34m.\u001b[0m\u001b[0mpyplot\u001b[0m \u001b[0;32mas\u001b[0m \u001b[0mplt\u001b[0m\u001b[0;34m\u001b[0m\u001b[0;34m\u001b[0m\u001b[0m\n\u001b[1;32m      2\u001b[0m \u001b[0;32mimport\u001b[0m \u001b[0mnumpy\u001b[0m \u001b[0;32mas\u001b[0m \u001b[0mnp\u001b[0m\u001b[0;34m\u001b[0m\u001b[0;34m\u001b[0m\u001b[0m\n\u001b[0;32m----> 3\u001b[0;31m \u001b[0;32mimport\u001b[0m \u001b[0mpygimli\u001b[0m \u001b[0;32mas\u001b[0m \u001b[0mpg\u001b[0m\u001b[0;34m\u001b[0m\u001b[0;34m\u001b[0m\u001b[0m\n\u001b[0m\u001b[1;32m      4\u001b[0m \u001b[0;32mimport\u001b[0m \u001b[0mpygimli\u001b[0m\u001b[0;34m.\u001b[0m\u001b[0mmeshtools\u001b[0m \u001b[0;32mas\u001b[0m \u001b[0mmt\u001b[0m\u001b[0;34m\u001b[0m\u001b[0;34m\u001b[0m\u001b[0m\n\u001b[1;32m      5\u001b[0m \u001b[0;32mfrom\u001b[0m \u001b[0mpygimli\u001b[0m\u001b[0;34m.\u001b[0m\u001b[0mphysics\u001b[0m\u001b[0;34m.\u001b[0m\u001b[0mtraveltime\u001b[0m \u001b[0;32mimport\u001b[0m \u001b[0mTravelTimeManager\u001b[0m\u001b[0;34m\u001b[0m\u001b[0;34m\u001b[0m\u001b[0m\n",
            "\u001b[0;31mModuleNotFoundError\u001b[0m: No module named 'pygimli'",
            "",
            "\u001b[0;31m---------------------------------------------------------------------------\u001b[0;32m\nNOTE: If your import is failing due to a missing package, you can\nmanually install dependencies using either !pip or !apt.\n\nTo view examples of installing some common dependencies, click the\n\"Open Examples\" button below.\n\u001b[0;31m---------------------------------------------------------------------------\u001b[0m\n"
          ]
        }
      ]
    },
    {
      "cell_type": "markdown",
      "metadata": {
        "id": "EmlNH62ERzoY"
      },
      "source": [
        "# Geometry set up\n",
        "Here we create some meshes that we will use to define the velocity models.\n",
        "We create a mesh that will serve as our \"true\" model (mesh_for) and a mesh that will serve as a background model (mesh_bg). The true model contains two elliptical anomalies that we will try to recover with the traveltime inversion. The background model will be used as the starting model for the inversion.\n",
        "The mesh files only contain information on the geometry of the model parameterisation and no information on the seismic velocity. "
      ]
    },
    {
      "cell_type": "code",
      "metadata": {
        "id": "yainYyNGAiVo"
      },
      "source": [
        "# Create elliptical anomalies. Youc an change the size and location of the anomalies to customise your model\n",
        "# Anomaly 1:\n",
        "magma = mt.createCircle(pos=[4000.0, -850.], segments=36, radius=[600.0, 500.0], marker=2,\n",
        "                        area=8000.0)\n",
        "# Anomaly 2:\n",
        "pluton = mt.createCircle(pos=[5700.0, -1000.], segments=36, radius=[600.0, 800.0], marker=3,\n",
        "                        area=8000.0)\n",
        "# Define a function to create land topography \n",
        "def surf(x):\n",
        "    y =150 - 40 * np.cos(2 * np.pi * 1/4000 * x) +x*0.01\n",
        "    return y\n",
        "\n",
        "# We define the location of sources here so that we can give each one a node in the mesh\n",
        "# shots every 50 m at the surface\n",
        "shotsx = np.arange(0., 9050.,50.0)\n",
        "shotsy = surf(shotsx)\n",
        "# Receivers every 500 m at the surface\n",
        "obsx = np.arange(500.0, 9000.0, 500.)\n",
        "obsy = surf(obsx)\n",
        "\n",
        "# Create topography\n",
        "topo = [[x,surf(x)] for x in shotsx]\n",
        "topo.append([9000,-2500])\n",
        "topo.append([0,-2500])\n",
        "\n",
        "# Create main polygon for the mesh with topography as top surface\n",
        "main = mt.createPolygon(topo,area=8000,isClosed=True, marker=4)\n",
        "plc = main\n",
        "    \n",
        "# Merge polygons into a single mesh for true model and background model\n",
        "# The variable quality sets the quality of the mesh\n",
        "# The variable area sets the maximum area of each cell in the mesh in m^2.\n",
        "mesh_for = mt.createMesh(plc + magma + pluton, quality=32, area=8000)\n",
        "# The background model doesn't include the elliptical anomalies\n",
        "mesh_bg = mt.createMesh(plc, quality=32, area=8000)\n",
        "\n",
        "# Plot meshes\n",
        "fig, ax = plt.subplots(2,1,figsize=(10,8))\n",
        "pg.show(mesh_bg,markers=True, showMesh=True,ax=ax[0])\n",
        "pg.show(mesh_for,markers=True, showMesh=True,ax=ax[1])\n",
        "ax[0].set_title(\"Background mesh\")\n",
        "ax[1].set_title(\"Forward mesh\")\n",
        "fig.tight_layout()"
      ],
      "execution_count": null,
      "outputs": []
    },
    {
      "cell_type": "markdown",
      "metadata": {
        "id": "0iN9MYxcSVwd"
      },
      "source": [
        "# Velocity model\n",
        "Here we add velocity information to the meshes.\n",
        "We create a background velocity by \"hanging\" a 1d velocity model to the surface topography. The true model is built by adding the velocity anomalies and a random perturbation to the background model. The velocity information is stored in separate variables from the mesh files. The random field generator used to create a random perturbation is a bit slow so this may take a couple of minutes."
      ]
    },
    {
      "cell_type": "code",
      "metadata": {
        "id": "yHSlKvV3AoMm"
      },
      "source": [
        "# Remove boundary markers\n",
        "for boundary in mesh_for.boundaries():\n",
        "    boundary.setMarker(0)\n",
        "for boundary in mesh_bg.boundaries():\n",
        "    boundary.setMarker(0)\n",
        "\n",
        "# Initialise lists that will contain the velocity information\n",
        "vel_for = []\n",
        "vel_bg = []\n",
        "# Define background velocity model\n",
        "a = 3500  # Vp value at the surface in m/s\n",
        "b = 1.0   # Vertical Vp gradient in (m/s)/m\n",
        "# Create velocities \"hanging\" from topography\n",
        "for node in mesh_bg.nodes():\n",
        "    vel_bg.append(a+b*(abs(node.y()-surf(node.x()))))    \n",
        "for node in mesh_for.nodes():\n",
        "    vel_for.append(a+b*(abs(node.y()-surf(node.x()))))\n",
        "\n",
        "# Add velocity info to mesh\n",
        "vel_for = pg.meshtools.nodeDataToCellData(mesh_for,np.array(vel_for))\n",
        "vel_bg = pg.meshtools.nodeDataToCellData(mesh_bg,np.array(vel_bg))\n",
        "\n",
        "# Create reference model with forward mesh for plotting calculating velocity anomaly\n",
        "vel_for_ref = []\n",
        "for node in mesh_for.nodes():\n",
        "    vel_for_ref.append(a+b*(abs(node.y()-surf(node.x()))))\n",
        "vel_for_ref = pg.meshtools.nodeDataToCellData(mesh_for,np.array(vel_for_ref))\n",
        "\n",
        "\n",
        "# Add anomalies to velocity model\n",
        "c = 3600  # Vp value inside anomaly 1\n",
        "d = 400   # Vp anomaly inside anomaly 2\n",
        "for i,cell in enumerate(mesh_for.cells()):\n",
        "    if cell.marker() == 2:\n",
        "        vel_for[i] = c\n",
        "    elif cell.marker() == 3:\n",
        "        vel_for[i] = vel_for[i]+d\n",
        "\n",
        "# Add random perturbations to true model. You can change the strength of the random perturbation to see how it affects the inversion.\n",
        "strength = 100\n",
        "random = pg.utils.generateGeostatisticalModel(mesh_for, I=[1000, 500])\n",
        "vel_for = vel_for+random*strength     \n",
        "\n",
        "# Plot background model and true model\n",
        "fig, ax = plt.subplots(2,1,figsize=(10,8))\n",
        "pg.show(mesh_bg, vel_bg, label=\"Vp (m/s)\",ax=ax[0],cMap=pg.cmap('vel'), nLevs=3,cMin=3500,cMax=6200)\n",
        "pg.show(mesh_for, vel_for, label=\"Vp (m/s)\",ax=ax[1],cMap=pg.cmap('vel'), nLevs=3,cMin=3500,cMax=6200)\n",
        "ax[0].set_title(\"Background model\")\n",
        "ax[1].set_title(\"True model\")\n",
        "fig.tight_layout()"
      ],
      "execution_count": null,
      "outputs": []
    },
    {
      "cell_type": "markdown",
      "metadata": {
        "id": "yafZoe8JUmvE"
      },
      "source": [
        "# Experiment set up\n",
        "Here we define the acquisition geometry of the experiment and define the variable that we need to simulate the ray propagation."
      ]
    },
    {
      "cell_type": "code",
      "metadata": {
        "id": "Eyo1oRVFBPks"
      },
      "source": [
        "from itertools import product\n",
        "\n",
        "# Define shot locations\n",
        "shots = np.zeros((len(shotsx), 2)) \n",
        "shots[:, 0] = shotsx  # x\n",
        "shots[:, 1] = shotsy\n",
        "\n",
        "# Define receiver locations\n",
        "obss = np.zeros((len(obsx), 2)) \n",
        "obss[:, 0] = obsx  # x\n",
        "obss[:, 1] = obsy\n",
        "\n",
        "# Create labels for the shots\n",
        "shotsn = np.arange(len(shotsx))\n",
        "# Find a label for each receiver that correspond to the shot at that position\n",
        "obsn = []\n",
        "for i in shotsn:\n",
        "    if shotsx[i] in obsx:\n",
        "        obsn.append(i)     \n",
        "\n",
        "# Define source-receiver pairs \n",
        "rays = list(product(obsn,shotsn))\n",
        "\n",
        "# Remove pairs were source and receiver are close to each other\n",
        "# You can modify this to exclude short offsets or long offsets from your inversion\n",
        "remove=[]\n",
        "for i,r in enumerate(rays):\n",
        "    if abs(r[0] - r[1]) < 2 :\n",
        "        remove.append(r)        \n",
        "for r in remove:\n",
        "    rays.remove(r)\n",
        "    \n",
        "# Create empty data container\n",
        "scheme = pg.DataContainer()        \n",
        "\n",
        "# Add shots and receivers as \"sensors\". Pygimli doesn't distinguish\n",
        "# between sources and receivers. They are all called \"sensors\".\n",
        "for i in shotsn:\n",
        "    scheme.createSensor((shotsx[i],shotsy[i]))\n",
        "\n",
        "# Add measurements, i.e. read the source-receiver pairs defined above\n",
        "rays = np.array(rays)\n",
        "scheme.resize(len(rays))\n",
        "scheme[\"s\"] = rays[:, 0]\n",
        "scheme[\"g\"] = rays[:, 1]\n",
        "scheme[\"valid\"] = np.ones(len(rays))\n",
        "scheme.registerSensorIndex(\"s\")\n",
        "scheme.registerSensorIndex(\"g\")\n",
        "print(\"Done\")"
      ],
      "execution_count": null,
      "outputs": []
    },
    {
      "cell_type": "markdown",
      "metadata": {
        "id": "yRLO9RJzUxXj"
      },
      "source": [
        "# Calculate traveltimes and draw raypaths\n",
        "Here we calculate synthetic traveltimes for the true model. These will be our data for the following inversion.\n",
        "\n",
        "The traveltimes can be calculated with a range of different method. In this exercise we use the \"graph\" method based on the work of computer scientist Edsger W. Dijkstra. His algorithm was designed to find the shortest path between points on a graph. A \"graph\" in this case is a set of nodes connected by segments, think for example of finding the shortest route from one address to another in central London.\n",
        "\n",
        "The traveltimes calculation uses a modified version of the Dijkstra algorithm that finds the path of minimum traveltime between each source and receiver pair. This is not as simple as finding the minimum distance, because the speed of propagation changes throughout the model so the shortest path is not always the quickest. In our case the network of nodes is the mesh defined above.\n",
        "\n",
        "**Question 1** Why is the graph method a good way for calculating the first arrival traveltimes? Are there any disadvantages?"
      ]
    },
    {
      "cell_type": "code",
      "metadata": {
        "id": "h1Ff0YdVBU-l"
      },
      "source": [
        "# Initialise traveltime manager\n",
        "vel_run = vel_for\n",
        "mesh_run = mesh_for\n",
        "tt = TravelTimeManager()\n",
        "secnodes=5  # Number of secondary nodes\n",
        "\n",
        "pg.tic()\n",
        "syn = tt.simulate(mesh=mesh_run, scheme=scheme, slowness=1./vel_run,secNodes=secnodes,\n",
        "                 verbose=1,debug=True,noiseAbs=0.0005)\n",
        "pg.toc(\"Raytracing with %d secondary nodes:\" % secnodes)\n",
        "print(syn('err'))\n",
        "print(\"Done\")"
      ],
      "execution_count": null,
      "outputs": []
    },
    {
      "cell_type": "markdown",
      "metadata": {
        "id": "E5SmcG87VIa7"
      },
      "source": [
        "# Plotting the ray paths\n",
        "Here we plot the paths of the rays calculated in the previous step. Notice how the rays \"avoid\" the low velocity anomaly.\n",
        "\n",
        "**Question 2** Why are the rays avoiding the low velocity anomaly? Remember that we are calculating the first arrival traveltimes.\n",
        "\n",
        "**Question 3** What will be the consequences of the rays avoiding the low velocity anomaly on the ability of the inversion to recover the structure?\n",
        "\n",
        "**Question 4**: Notice the maximum depth of penetration of the rays (the turning depth). How could we change the experiment geometry to sample deeper into the subsurface? What else could we do to sample deeper?"
      ]
    },
    {
      "cell_type": "code",
      "metadata": {
        "id": "BTDkpcC6BetN"
      },
      "source": [
        "fig, ax = plt.subplots(figsize=(10, 7))\n",
        "# Plot the velocity model\n",
        "pg.show(mesh_run, vel_run, ax=ax, label=\"Velocity (m/s)\", hold=True,\n",
        "       logScale=False, cMap=pg.cmap('vel'), nLevs=3,cMin=3500,cMax=6200)\n",
        "\n",
        "# Plot rays\n",
        "tt.drawRayPaths(ax=ax, model=vel_run, color=\"k\", lw=0.3, alpha=0.5)\n",
        "ax.plot(obsx, obsy, \"rs\", ms=8)     # plot receivers as red squaress\n",
        "ax.plot(shotsx, shotsy, \"bo\", ms=3) # plot shots as blue dots\n",
        "ax.set_ylim(mesh_run.ymin(), 400)   # set y axis limits\n",
        "fig.tight_layout()"
      ],
      "execution_count": null,
      "outputs": []
    },
    {
      "cell_type": "markdown",
      "metadata": {
        "id": "QD_yzR9IVksG"
      },
      "source": [
        "# Ploting the traveltimes\n",
        "Here we plot the synthetic traveltimes. Traveltimes for each receiver are plotted in a different color.\n",
        "\n",
        "**Question 5** What is the signature of the low velocity anomaly in the traveltime curves?"
      ]
    },
    {
      "cell_type": "code",
      "metadata": {
        "id": "PBUO9d2fBh0b"
      },
      "source": [
        "fig, ax = plt.subplots(figsize=(10, 5))\n",
        "ax.set_ylim(0, 2.0)\n",
        "ax.set_xlim(0, 9000)\n",
        "pg.physics.traveltime.drawFirstPicks(ax, syn)\n",
        "fig.tight_layout()\n",
        "\n"
      ],
      "execution_count": null,
      "outputs": []
    },
    {
      "cell_type": "markdown",
      "metadata": {
        "id": "0pzT8flOVvzK"
      },
      "source": [
        "# Inversion\n",
        "Here we carry out an inversion of the syntehtic traveltimes calculated above. The synthetic traveltimes represent our data. Our starting model is the background velocity model. The goal is to recover the anomalies of the true model.\n",
        "The inversion is an iterative process. At each iteration we need to trace the rays and calculate the traveltimes so that we can compare them to the data and calculate the traveltime residuals. **This may take a few minutes.**\n",
        "\n",
        "How do we chose when to stop the inversion?\n",
        "An iterative inversion presents a dilemma: if at each iteration we get closer to the \"true model\", how do we choose when to stop? Here we use three separate criteria:\n",
        "- When the $\\chi^2 $ is 1. The $\\chi^2$ is a measure of how closely the predicted traveltimes fit the data. A $\\chi^2$ of 1 means that we can fit the data to within the given uncertainty.\n",
        "- When the inversion converges. If the improvement at each step is very small we can stop the inversion. We can set this with the parameter dPhi. This represents the minimum improvement in the data norm (the total misfit) and is initially set to 1%. If dPhi goes below this value we stop the inversion.\n",
        "- When we run out of time. If the inversion is not well tuned it may not converge. In this case we stop the inversion after 20 iterations.\n"
      ]
    },
    {
      "cell_type": "code",
      "metadata": {
        "id": "BsY0WpNtBn3W"
      },
      "source": [
        "#Inversion\n",
        "lam = 512  # Regularization parameter. This parameter is crucial for tuning the inversion.\n",
        "# We will look into it in detail in the next exercise.\n",
        "invmodel = tt.invert(syn, mesh=mesh_bg, startModel=1./vel_bg, secNodes=5,zWeight=0.5, \n",
        "          verbose=1, maxiter=20, lam=lam, dPhi=1) \n",
        "\n",
        "print(\"chi^2 = %.2f\" % tt.inv.chi2())  # Look at the data fit"
      ],
      "execution_count": null,
      "outputs": []
    },
    {
      "cell_type": "code",
      "metadata": {
        "id": "jmBMYMeYMoPy"
      },
      "source": [
        "# Initialise traveltime manager\n",
        "vel_run = invmodel\n",
        "mesh_run = mesh_bg\n",
        "tt2 = TravelTimeManager()\n",
        "secnodes=5  # Number of secondary nodes\n",
        "\n",
        "pg.tic()\n",
        "invtt = tt2.simulate(mesh=mesh_run, scheme=scheme, slowness=1./vel_run,secNodes=secnodes,\n",
        "                 verbose=1,debug=True)\n",
        "pg.toc(\"Raytracing with %d secondary nodes:\" % secnodes)\n"
      ],
      "execution_count": null,
      "outputs": []
    },
    {
      "cell_type": "code",
      "metadata": {
        "id": "aQak2VzIO46r"
      },
      "source": [
        "from sklearn.metrics import mean_squared_error as mse\n",
        "import math\n",
        "\n",
        "fig, ax = plt.subplots(1, 1, figsize=(10,8), sharex=True, sharey=True)\n",
        "ax.set_title(\"Residual (ms)\")\n",
        "plt.scatter(invtt('g')[0:178]*50,((invtt('t')-syn('t'))[0:178])*100)\n",
        "\n",
        "msres = mse(invtt('t'),syn('t'))\n",
        "rmsres = math.sqrt(msres)\n",
        "print('RMS residual = ',rmsres*100,'ms')\n"
      ],
      "execution_count": null,
      "outputs": []
    },
    {
      "cell_type": "markdown",
      "metadata": {
        "id": "qXjSz8kNWBZP"
      },
      "source": [
        "# Plotting the results\n",
        "Here we plot a comparison of the true model and the recovered model. How well did we do? How could we do better? "
      ]
    },
    {
      "cell_type": "code",
      "metadata": {
        "id": "RK5kr7Y3D7ck"
      },
      "source": [
        "fig, (ax1, ax2) = plt.subplots(2, 1, figsize=(10,8), sharex=True, sharey=True)\n",
        "ax1.set_title(\"True model\")\n",
        "ax2.set_title(\"Inversion result\")\n",
        "\n",
        "pg.show(mesh_for, vel_for, ax=ax1, showMesh=False,\n",
        "        label=pg.unit('vel'), cMap=pg.cmap('vel'), nLevs=3,cMin=3500,cMax=6200)\n",
        "\n",
        "tt.showResult(ax=ax2, logScale=False, showMesh=False, nLevs=3,cMin=3500,cMax=6200)\n",
        "\n",
        "#tt.drawRayPaths(ax=ax2, color=\"0.8\", alpha=0.3)\n",
        "for ax in (ax1, ax2):\n",
        "    ax.plot(obsx, obsy, \"rs\", ms=8)\n",
        "    ax.plot(shotsx, shotsy, \"ko\", ms=3)\n",
        "    ax.set_ylim(-1600,400)\n",
        "    ax.set_xlim(1000,8000)\n",
        "fig.tight_layout()"
      ],
      "execution_count": null,
      "outputs": []
    },
    {
      "cell_type": "markdown",
      "metadata": {
        "id": "DH_88P98YEWE"
      },
      "source": [
        "# Velocity anomaly\n",
        "We can more easily evaluate the result if we plot the true and recovered velocity anomaly, i.e. the difference between the model and the background."
      ]
    },
    {
      "cell_type": "code",
      "metadata": {
        "id": "lChzr_G3YRNz"
      },
      "source": [
        "# Subtract tyhe background to get the velocity anomaly\n",
        "ano_true = vel_for - vel_for_ref\n",
        "ano_inv = invmodel - vel_bg\n",
        "\n",
        "# Set up the plot\n",
        "fig, (ax1, ax2) = plt.subplots(2, 1, figsize=(10,8), sharex=True, sharey=True)\n",
        "ax1.set_title(\"True model anomaly\")\n",
        "ax2.set_title(\"Inversion result anomaly\")\n",
        "\n",
        "# Plot the true anomaly\n",
        "pg.show(mesh_for, ano_true, ax=ax1, showMesh=False,\n",
        "        label=pg.unit('vel'), cMap='seismic', nLevs=3,cMin=-500,cMax=500)\n",
        "\n",
        "# Plot the recovered anomaly\n",
        "pg.show(mesh_bg, ano_inv, ax=ax2, showMesh=False,\n",
        "        label=pg.unit('vel'), cMap='seismic', nLevs=3,cMin=-500,cMax=500)\n",
        "\n",
        "# Plot stations and shots\n",
        "for ax in (ax1, ax2):\n",
        "    ax.plot(obsx, obsy, \"rs\", ms=8)\n",
        "    ax.plot(shotsx, shotsy, \"ko\", ms=3)\n",
        "    ax.set_ylim(-1600,400)\n",
        "    ax.set_xlim(1000,8000)\n",
        "fig.tight_layout()\n",
        "\n"
      ],
      "execution_count": null,
      "outputs": []
    },
    {
      "cell_type": "markdown",
      "metadata": {
        "id": "2X7WPBoBkVF-"
      },
      "source": [
        "# Final remarks\n",
        "The recovered anomalies are considerably weaker than the true anomalies and they are smeared significantly in the horizontal direction.\n",
        "\n",
        "**Question 6** How could we do better? Consider 1) the experiment parameters, 2) the inversion parameters and 3) the inversion approach."
      ]
    }
  ]
}