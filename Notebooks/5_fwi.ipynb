{
  "nbformat": 4,
  "nbformat_minor": 0,
  "metadata": {
    "kernelspec": {
      "name": "python3",
      "display_name": "Python 3"
    },
    "colab": {
      "name": "5_fwi.ipynb",
      "provenance": []
    }
  },
  "cells": [
    {
      "cell_type": "markdown",
      "metadata": {
        "id": "5e3b6E1VlM5r"
      },
      "source": [
        "# Full waveform inversion exercise\n",
        "\n",
        "Created by Michele Paulatto, Imperial College London\n",
        "\n",
        "https://github.com/michpaulatto/AppliedGeophysicsExercises\n",
        "\n",
        "\n",
        "Version 1.0 - 13.12.2022\n",
        "\n",
        "This exercise is distributed under a [GNU GPL 3.0 license](https://www.gnu.org/licenses/gpl-3.0.en.html). \n",
        "\n",
        "![](https://www.gnu.org/graphics/gplv3-with-text-136x68.png)\n",
        "\n",
        "Developed for [Google Colab](https://colab.research.google.com/)\n",
        "\n",
        "In this exercise we look at a 2D example of full waveform inversion. \n",
        "For our example we use synthetic data generated using a realistic layered velocity model. The Marmousi model was created in 1988 by the Institut Francais du Pétrole (IFP). The model is based on a real profile through the North Quenguela trough in the Kwanza basin (offshore Angola). The geometry and velocity model were created to produce complex seismic data which require advanced processing techniques to obtain an accurate Earth image. Traditional traveltime tomography is not suited to recover the detailed velocity information contained in the model.\n",
        "\n",
        "The Marmousi model has been used extensively for testing of new methods and approaches for Earth imaging, not restricted to waveform inversion.\n",
        "\n",
        "You will not be running the inversion in real time. This would be too time consuming and complex to set up for the whole class. Instead the inversion has been run in advance on Imperial College's HPC cluster. This took only a few minutes, using 2 nodes, each runnning 24 processes. Large 3D inversions can take several days to run and require hundreds of compute nodes.\n",
        "\n",
        "The waveform modelling and inversion is done using Fullwave3d, a code developed at Imperial College by the Fullwave group, led by Mike Warner (https://fullwave3d.github.io/). Here we analyse the output from the inversion. We will start by looking at the artificial \"field data\" and the true model and starting model. We will then look at the different steps required to invert the waveform data and produce a velocity model."
      ]
    },
    {
      "cell_type": "markdown",
      "metadata": {
        "id": "Z2WZslEVqBxL"
      },
      "source": [
        "#Environment setup\n",
        "\n",
        "We need to set up the Python environment before we start. If running the exercise on your local machine the setup would have to be modified. We need to install Anaconda (https://www.anaconda.com/) and use it to install SegyIO. Some of the operations in the setup are a bit advanced and are beyond the scope of this exercise. So just run the following two code cells and move on. This may take a couple of minutes so be patient. If running this Notebook on Google Colab for the first time you may get a warning that the Notebook was not authored by Google, click OK and continue."
      ]
    },
    {
      "cell_type": "code",
      "metadata": {
        "id": "UhGp5kYTlnmN"
      },
      "source": [
        "!pip install -q \"condacolab==0.1.5\"\n",
        "import condacolab\n",
        "condacolab.install()"
      ],
      "execution_count": null,
      "outputs": []
    },
    {
      "cell_type": "code",
      "metadata": {
        "id": "bcA2scrnloQS"
      },
      "source": [
        "import condacolab\n",
        "condacolab.check()\n",
        "!mamba install -c conda-forge segyio --yes &> out.log\n",
        "print(\"Segyio installed\")"
      ],
      "execution_count": null,
      "outputs": []
    },
    {
      "cell_type": "markdown",
      "metadata": {
        "id": "rQn7o3xYyXWo"
      },
      "source": [
        "# Import modules and download data\n",
        "\n",
        "Here we import the Python modules that we need for the exercise. We then download all the data necessary for the exercise from Figshare. This does not include the complete ouput for the inversion, but only the files necessary to analyse the results.\n",
        "\n"
      ]
    },
    {
      "cell_type": "code",
      "metadata": {
        "id": "YY2_FqXelM5t"
      },
      "source": [
        "# Python modules\n",
        "import segyio\n",
        "import numpy as np\n",
        "import matplotlib.pyplot as plt\n",
        "import re\n",
        "# Download data\n",
        "!wget https://ndownloader.figshare.com/files/26531138 -O data.gz\n",
        "!tar --strip-components=1 -xvf data.gz >& tmp\n",
        "# Compile read_vtr utility\n",
        "!gfortran read_vtr.f90 -o read_vtr"
      ],
      "execution_count": null,
      "outputs": []
    },
    {
      "cell_type": "markdown",
      "metadata": {
        "id": "-56i2Mk5lM5u"
      },
      "source": [
        "# Experiment geometry\n",
        "\n",
        "Here we read some parameters defining the experiment geometry."
      ]
    },
    {
      "cell_type": "code",
      "metadata": {
        "id": "zJCOxcgElM5u"
      },
      "source": [
        "# Name of project\n",
        "project='Marm2D'\n",
        "# Read inversion and model parameters\n",
        "runfile=project+'-Runfile.key'\n",
        "\n",
        "# Open file and read parameters\n",
        "with open(runfile) as f:\n",
        "    text = f.readlines()\n",
        "    for line in text:\n",
        "        if 'NSHOT' in line: nshot = int(line.split(':')[-1])\n",
        "        if 'NRECS' in line: nrecs = int(line.split(':')[-1])\n",
        "        if 'NX1' in line: nx1 = int(line.split(':')[-1])\n",
        "        if 'NX3' in line: nx3 = int(line.split(':')[-1])\n",
        "        if 'DX' in line: dx = float(line.split('!')[0].split(':')[-1])\n",
        "\n",
        "print(\"Number of sources:\",nshot)\n",
        "print(\"Number of receivers:\",nrecs)\n",
        "print(\"Number x nodes:\",nx1)\n",
        "print(\"Number z nodes:\",nx3)\n",
        "print(\"Grid spacing:\",dx,\"m\")"
      ],
      "execution_count": null,
      "outputs": []
    },
    {
      "cell_type": "markdown",
      "metadata": {
        "id": "yVcjVaiyO9XX"
      },
      "source": [
        "The model is defined on a regular grid with 24 m grid spacing. The grid has 384 nodes in the x direction and 136 nodes in the z direction, coresponding to an area of 9216 m by 3264 m.\n",
        "\n",
        "We use data from 15 shots located 12 m below the surface, spaced every 600 m.\n",
        "The data are recorded by an array consisting of 371 hydrophones spaced every 24 m, also at 12 m depth. This geometry is similar to what one could achieve with a long streamer and an airgun source.\n"
      ]
    },
    {
      "cell_type": "markdown",
      "metadata": {
        "id": "XWtnbH4DlM5u"
      },
      "source": [
        "# Source wavelet\n",
        "\n",
        "This is the **source time function**. At each source location we inject a pressure perturbation and model the wave propagation. The source contains energy between 2 and 12 Hz."
      ]
    },
    {
      "cell_type": "code",
      "metadata": {
        "id": "mLarncSKlM5v"
      },
      "source": [
        "# Read source wavelet\n",
        "filename='Marm2D-RawSign.sgy'\n",
        "with segyio.open(filename, ignore_geometry=True) as f:\n",
        "    # Get basic attributes\n",
        "    n_traces = f.tracecount\n",
        "    sample_rate = segyio.tools.dt(f) / 1000\n",
        "    n_samples = f.samples.size\n",
        "    time = f.samples\n",
        "    data = f.trace.raw[:]  # Get all data into memory (could cause on big files)\n",
        "    trace=data[0]\n",
        "# Plot source wavelet\n",
        "    fig = plt.figure(figsize=(10, 2))\n",
        "    ax = fig.add_subplot(111)\n",
        "    ax.plot(time,trace)\n",
        "    ax.set_xlim(0,1000)\n",
        "    ax.set_ylim(np.min(trace),np.max(trace))\n",
        "    ax.set_xlabel('Time(ms)')\n",
        "    ax.set_ylabel('Amplitude')\n",
        "    ax.set_title('Source wavelet')"
      ],
      "execution_count": null,
      "outputs": []
    },
    {
      "cell_type": "markdown",
      "metadata": {
        "id": "22RhAP_FlM5v"
      },
      "source": [
        "# Plot the data\n",
        "\n",
        "We use synthetic data generated by solving the forward problem (the acoustic wave equation) in the true velocity model. We will call this the \"field data\" in the rest of the exercise but remember that it is not real data. This is similar to what we did in the travel time exercise, where our \"data\" was also generated through the true model.\n",
        "\n",
        "By using synthetic data we are making the problem considerably easier than it is with field data. There are several complicating factors that we have removed.\n",
        "- The data contain no noise. In real field applications the data always contain noise. The main sources of noise are wind waves, turbulence from the ship and from dragging the gear through the water, electronic noise.\n",
        "- The sources and receivers are perfectly located. In real cases the location of the sources and receivers is subject to uncertainties that lead to errors propagating through the inversion\n",
        "- The physics is simplified. By using the acoustic wave equation we are disregarding elastic and anelatic effects that affect the amplitude of the seismic waves.\n",
        "- There is no anisotropy. The real Earth is anisotropic (Vp depends on the azimuth in which you measure it). If this is not taken into account it leads to inconsitencies between different parts of the dataset.\n",
        "\n",
        "Below we plot the shot gather for one of the shots placed about 1/3 of the way across the profile.\n",
        "\n",
        "**Question 1.** Spend some time looking at the data section. You can plot a different shot by changing the variable \"shot\" below. This should be a number between 1 and 15.\n",
        "\n",
        "Focusing on shot number 6, identify the following seismic phases:\n",
        "- Direct waves i.e. waves travelling through the water straight to the receiver\n",
        "- Seabed reflection\n",
        "- Deeper reflections\n",
        "- Transmitted waves (refraction)\n",
        "\n",
        "You can take a screenshot of the data plot and mark these phases on the plot using Powerpoint, Microsoft Paint or any other image editor.\n"
      ]
    },
    {
      "cell_type": "code",
      "metadata": {
        "id": "kxPxZtV8lM5v"
      },
      "source": [
        "# Data filename\n",
        "filename='Marm2D-Synthetic.sgy'\n",
        "# Open data file\n",
        "with segyio.open(filename, ignore_geometry=True) as f:\n",
        "    # Get basic attributes\n",
        "    n_traces = f.tracecount\n",
        "    sample_rate = segyio.tools.dt(f) / 1000\n",
        "    n_samples = f.samples.size\n",
        "    time = f.samples\n",
        "    data = f.trace.raw[:]  # Get all data into memory (could cause on big files)\n",
        "print(f'N Traces: {n_traces}, N Samples: {n_samples}, Sample rate: {sample_rate}ms')\n",
        "# Select amplitude cutoff for plotting\n",
        "clip_percentile = 99\n",
        "vm = np.percentile(data, clip_percentile)\n",
        "print(f'The {clip_percentile}th percentile is {vm:.0f}; the max amplitude is {data.max():.0f}')\n",
        "\n",
        "# Select shot to plot\n",
        "shot=6\n",
        "trace1=nrecs*(shot-1)\n",
        "trace2=nrecs*shot\n",
        "\n",
        "# Plot shot gather\n",
        "fig = plt.figure(figsize=(16, 8))\n",
        "ax = fig.add_subplot(1, 1, 1)\n",
        "extent = [1, nrecs, time[-1], time[0]]  # define extent\n",
        "ax.imshow(data.T[:,trace1:trace2], cmap=\"RdBu\", vmin=-vm, vmax=vm, aspect='auto',extent=extent)\n",
        "ax.set_xlabel('Receiver number')\n",
        "ax.set_ylabel('Time [ms]')\n",
        "ax.set_title(f'Shot number {shot}')"
      ],
      "execution_count": null,
      "outputs": []
    },
    {
      "cell_type": "markdown",
      "metadata": {
        "id": "m76WqWc6lM5w"
      },
      "source": [
        "# True model and starting model\n",
        "\n",
        "The true model is the Marmousi model. The starting model in this case is obtained by smoothing the true model and adding a small bias. In real cases the starting model may be generated by travel time tomography or from the stacking velocities from processing of reflection data.\n",
        "\n",
        "**Question 2.** Why is it important to have a good starting model in full waveform inversion? What does \"good\" mean in this case? How do we check that the starting model is \"good\"?"
      ]
    },
    {
      "cell_type": "code",
      "metadata": {
        "id": "tx7QxOeWlM5w"
      },
      "source": [
        "filename='Marm2D-TrueVp.sgy'\n",
        "with segyio.open(filename, ignore_geometry=True) as f:\n",
        "    vptrue = f.trace.raw[:]  # Get all data into memory (could cause issues on big files)\n",
        "\n",
        "filename='Marm2D-StartVp.sgy'\n",
        "with segyio.open(filename, ignore_geometry=True) as f:\n",
        "    depth = f.samples\n",
        "    vpstart = f.trace.raw[:]  # Get all data into memory (could cause issues on big files)\n",
        "\n",
        "#print(f'N Traces: {n_traces}, N Samples: {n_samples}, Sample rate: {sample_rate}ms')\n",
        "\n",
        "fig = plt.figure(figsize=(14, 10))\n",
        "\n",
        "ax1 = fig.add_subplot(2, 1, 1)\n",
        "extent = [0, nrecs*dx, depth[-1], depth[0]]  # define extent\n",
        "im1=ax1.imshow(vptrue.T, cmap=\"plasma\", vmin=1500, vmax=5000, aspect='auto',extent=extent)\n",
        "ax1.set_xlabel('X (m)')\n",
        "ax1.set_ylabel('Z (m)')\n",
        "ax1.set_title('True model')\n",
        "plt.colorbar(im1,label=\"Vp (m/s)\")\n",
        "\n",
        "ax2 = fig.add_subplot(2, 1, 2)\n",
        "extent = [0, nrecs*dx, depth[-1], depth[0]]  # define extent\n",
        "im2=ax2.imshow(vpstart.T, cmap=\"plasma\", vmin=1500, vmax=5000, aspect='auto',extent=extent)\n",
        "ax2.set_xlabel('X (m)')\n",
        "ax2.set_ylabel('Z (m)')\n",
        "ax2.set_title('Starting model')\n",
        "plt.colorbar(im2,label=\"Vp (m/s)\")"
      ],
      "execution_count": null,
      "outputs": []
    },
    {
      "cell_type": "markdown",
      "metadata": {
        "id": "tsXyrF94lM5x"
      },
      "source": [
        "# The wavefield\n",
        "\n",
        "The wavefield describes the pressure field generated by the source. Below we read and plot the wavefield for shot number 6 computed in the first iteration. Running this box will show a short animation of the waves propagating through the model (here you can only see the wavefield for shot 6 as the data provided does not contain the wavefield for the other shots, to keep the disk storage requirements small). \n",
        "\n",
        "**Question 3.** The wavefield shown for iteration 1 is very simple, with just a transmitted wave and some water column multiples. It is computed by solving the acoustic wave equation. What are the main simplifications made in this case, compared to the real Earth? How would the wavefield be different in the real Earth?"
      ]
    },
    {
      "cell_type": "code",
      "metadata": {
        "id": "LQ8h731dlM5x"
      },
      "source": [
        "%matplotlib inline\n",
        "from IPython.display import clear_output\n",
        "from time import sleep\n",
        "\n",
        "xtratop=0\n",
        "xtrabot=50\n",
        "xtra1=50\n",
        "nx3w=nx3+xtratop+xtrabot\n",
        "nx1w=nx1+2*xtra1\n",
        "\n",
        "extent = [0, nrecs*dx, time[-1], time[0]]  # define extent\n",
        "timesteps=np.arange(20,800,20,dtype=int)\n",
        "#timesteps=np.arange(1240,500,-20,dtype=int)\n",
        "\n",
        "shot=6\n",
        "iteration=1\n",
        "iterstr=str(iteration).zfill(5)\n",
        "shotstr=str(shot).zfill(5)\n",
        "xcorr=np.zeros((nx1,nx3))\n",
        "for step in timesteps:\n",
        "    fig = plt.figure(figsize=(12, 5))\n",
        "    ax=plt.subplot(111)\n",
        "    timestr=str(step).zfill(6)\n",
        "    filename='fw-'+timestr+'-csref'+shotstr+'-iter'+iterstr+'fwd1.vtr'\n",
        "    !./read_vtr <<< {filename} >& tmp\n",
        "    binfile=filename+\".bin\"\n",
        "    fw=np.fromfile(binfile, dtype=np.float32)\n",
        "    fw=np.reshape(fw,(nx1w,nx3w))\n",
        "    fw=fw[xtra1:-xtra1,xtratop:-xtrabot]\n",
        "    clear_output(wait=True)\n",
        "    plt.imshow(fw.T, cmap=\"gray\",vmin=-70,vmax=70,aspect='auto',extent=extent)\n",
        "    ax.set_title('Wavefield t = '+str(step*sample_rate/1000)+' s')\n",
        "\n",
        "    plt.show()\n",
        "    sleep(0.03)"
      ],
      "execution_count": null,
      "outputs": []
    },
    {
      "cell_type": "markdown",
      "metadata": {
        "id": "JWhyvUpYlM5y"
      },
      "source": [
        "# Data misfit (residuals)\n",
        "\n",
        "The wavefield is defined everywhere in the model. We are interested in the value fo the wavefield at the receivers because this is all that can be measured. We extract the predicted wavefield at the receiver locations to generate synthetics. This gives us shot gathers that we can compare to the field data. Below we plot the synthetics, the data and the residuals. The residuals are simply calculated by subtracting the data from the synthetics. Notice how the synthetics are much simpler and don't contain all the complex reflections seen in the data."
      ]
    },
    {
      "cell_type": "code",
      "metadata": {
        "id": "XdpypPOplM5y"
      },
      "source": [
        "ntraces=nrecs*3\n",
        "x1=0\n",
        "x2=371\n",
        "\n",
        "for step in [\"01\"]:\n",
        "    filename='compare_6_'+step+'.bin'\n",
        "    traces=np.fromfile(filename, dtype=np.float32)\n",
        "    traces=np.reshape(traces,(ntraces,n_samples))\n",
        "    \n",
        "    fig = plt.figure(figsize=(15, 5))\n",
        "    ax1 = fig.add_subplot(1, 3, 1)\n",
        "    extent = [x1, x2*dx, time[-1], time[0]]  # define extent\n",
        "    ax1.imshow(traces.T[:,x1:x2], cmap=\"seismic\",vmin=-0.2,vmax=0.2,aspect='auto',extent=extent)\n",
        "    ax1.set_xlabel('X (m)')\n",
        "    ax1.set_ylabel('t (ms)')\n",
        "    ax1.set_title('Synthetics')\n",
        "    ax1 = fig.add_subplot(1, 3, 2)\n",
        "    extent = [x1, x2*dx, time[-1], time[0]]  # define extent\n",
        "    ax1.imshow(traces.T[:,nrecs+x1:nrecs+x2], cmap=\"seismic\",vmin=-0.2,vmax=0.2,aspect='auto',extent=extent)\n",
        "    ax1.set_xlabel('X (m)')\n",
        "    ax1.set_ylabel('t (m)')\n",
        "    ax1.set_title('Data')\n",
        "    ax1 = fig.add_subplot(1, 3, 3)\n",
        "    extent = [x1, x2*dx, time[-1], time[0]]  # define extent\n",
        "    ax1.imshow(traces.T[:,2*nrecs+x1:2*nrecs+x2], cmap=\"seismic\",vmin=-0.2,vmax=0.2,aspect='auto',extent=extent)\n",
        "    ax1.set_xlabel('X (m)')\n",
        "    ax1.set_ylabel('t (m)')\n",
        "    ax1.set_title('Residuals')"
      ],
      "execution_count": null,
      "outputs": []
    },
    {
      "cell_type": "markdown",
      "metadata": {
        "id": "WFL4cI6YlM5y"
      },
      "source": [
        "# Trace comparison and residual wavelet\n",
        "\n",
        "The mismatch between data and synthetics can also be seen by plotting one of the traces as a wiggle. Below we plot the data in black and the synthetics in blue for shot number 6 recorded on receiver number 180.\n",
        "\n",
        "Notice how the first couple of peaks are predicted reasonably well, these peaks correspond to the refracted arrivals. The fact that their timing is predicted accurately means that our starting model is adequate. This is not surprising given that our starting model was generated by simply smoothing the true model and adding a small bias. We also have the advantage of having good low frequency data (compared to the size of the model) and no noise. The later arrivals are not present in the synthetics because there are no sharp boundaries to generate the reflections."
      ]
    },
    {
      "cell_type": "code",
      "metadata": {
        "id": "RXecB99flM5z"
      },
      "source": [
        "tracenum=180\n",
        "datatrace=traces[nrecs+tracenum,:]\n",
        "syntrace=traces[tracenum,:]\n",
        "\n",
        "fig = plt.figure(figsize=(12, 7))\n",
        "ax1 = fig.add_subplot(211)\n",
        "ax1.plot(time,datatrace,'black')\n",
        "ax1.plot(time,syntrace,'blue')\n",
        "ax1.set_xlim(0,3000)\n",
        "ax1.set_ylim(np.min(datatrace),np.max(datatrace))\n",
        "ax1.set_ylabel('Amplitude')\n",
        "ax1.set_title('Trace comparison')\n",
        "\n",
        "ax2 = fig.add_subplot(212)\n",
        "ax2.plot(time,syntrace-datatrace,'black')\n",
        "ax2.set_ylim(np.min(datatrace),np.max(datatrace))\n",
        "ax2.set_xlim(0,3000)\n",
        "ax2.set_xlabel('Time(ms)')\n",
        "ax2.set_ylabel('Amplitude')\n",
        "ax2.set_title('Residual wavelet')"
      ],
      "execution_count": null,
      "outputs": []
    },
    {
      "cell_type": "markdown",
      "metadata": {
        "id": "17M9_FQUlM5z"
      },
      "source": [
        "# The residual wavefield\n",
        "\n",
        "To compute the gradient of the objective function we need to first compute the back-propagated residual wavefield. This consists of turning the receivers into sources and the residuals into source time functions.\n",
        "\n",
        "As an example, think of taking the residual wavelet from the previous step, reversing the time axis (so it goes from 3.0 s to 0.0 s). And using that as a source time function at the location of receiver 180.\n",
        "\n",
        "Below we show an animation of the resulting back-propagated residual wavefield.Notice how all the receivers act as sources at the same time. This is done to save computational cost.\n"
      ]
    },
    {
      "cell_type": "code",
      "metadata": {
        "id": "h9RScFCalM5z"
      },
      "source": [
        "%matplotlib inline\n",
        "from IPython.display import clear_output\n",
        "from time import sleep\n",
        "\n",
        "xtratop=0\n",
        "xtrabot=50\n",
        "xtra1=50\n",
        "nx3w=nx3+xtratop+xtrabot\n",
        "nx1w=nx1+2*xtra1\n",
        "\n",
        "extent = [0, nrecs*dx, time[-1], time[0]]  # define extent\n",
        "timesteps=np.arange(1240,500,-20,dtype=int)\n",
        "\n",
        "iteration=1\n",
        "iterstr=str(iteration).zfill(5)\n",
        "shotstr=str(shot).zfill(5)\n",
        "xcorr=np.zeros((nx1,nx3))\n",
        "for step in timesteps:\n",
        "    fig = plt.figure(figsize=(12, 5))\n",
        "    ax=plt.subplot(111)\n",
        "    timestr=str(step).zfill(6)\n",
        "    filename='bw-'+timestr+'-csref'+shotstr+'-iter'+iterstr+'fwd1.vtr'\n",
        "    !./read_vtr <<< {filename} >& tmp\n",
        "    binfile=filename+\".bin\"\n",
        "    bw=np.fromfile(binfile, dtype=np.float32)\n",
        "    bw=np.reshape(bw,(nx1w,nx3w))\n",
        "    bw=bw[xtra1:-xtra1,xtratop:-xtrabot]\n",
        "    clear_output(wait=True)\n",
        "    plt.imshow(bw.T, cmap=\"gray\",vmin=-0.1,vmax=0.1,aspect='auto',extent=extent)\n",
        "    ax.set_title('Residual wavefield t = '+str(step*sample_rate/1000)+' s')\n",
        "    plt.show()\n",
        "    sleep(0.03)"
      ],
      "execution_count": null,
      "outputs": []
    },
    {
      "cell_type": "markdown",
      "metadata": {
        "id": "f_oeCTOVlM50"
      },
      "source": [
        "# Cross-correlation\n",
        "\n",
        "The cross-correlation is equivalent to multiplying the forward and residual wavefields at each time step and then summing all the timesteps together. First we look at the product of the forward and residual fields at each timestep:"
      ]
    },
    {
      "cell_type": "code",
      "metadata": {
        "id": "kxRJ1GzAlM50"
      },
      "source": [
        "%matplotlib inline\n",
        "from IPython.display import clear_output\n",
        "from time import sleep\n",
        "\n",
        "xtratop=0\n",
        "xtrabot=50\n",
        "xtra1=50\n",
        "nx3w=nx3+xtratop+xtrabot\n",
        "nx1w=nx1+2*xtra1\n",
        "\n",
        "extent = [0, nrecs*dx, time[-1], time[0]]  # define extent\n",
        "timesteps=np.arange(20,880,20,dtype=int)\n",
        "#timesteps=np.arange(1240,500,-20,dtype=int)\n",
        "\n",
        "iteration=1\n",
        "iterstr=str(iteration).zfill(5)\n",
        "shotstr=str(shot).zfill(5)\n",
        "xcorr=np.zeros((nx1,nx3))\n",
        "for step in timesteps:\n",
        "    fig = plt.figure(figsize=(12, 5))\n",
        "    ax = plt.subplot(111)\n",
        "    timestr=str(step).zfill(6)\n",
        "    filename='fw-'+timestr+'-csref'+shotstr+'-iter'+iterstr+'fwd1.vtr'\n",
        "    !./read_vtr <<< {filename} >& tmp\n",
        "    binfile=filename+\".bin\"\n",
        "    fw=np.fromfile(binfile, dtype=np.float32)\n",
        "    fw=np.reshape(fw,(nx1w,nx3w))\n",
        "    fw=fw[xtra1:-xtra1,xtratop:-xtrabot]\n",
        "    filename='bw-'+timestr+'-csref'+shotstr+'-iter'+iterstr+'fwd1.vtr'\n",
        "    !./read_vtr <<< {filename} >& tmp\n",
        "    binfile=filename+\".bin\"\n",
        "    bw=np.fromfile(binfile, dtype=np.float32)\n",
        "    bw=np.reshape(bw,(nx1w,nx3w))\n",
        "    bw=bw[xtra1:-xtra1,xtratop:-xtrabot]\n",
        "    prod=bw*fw\n",
        "    xcorr+=prod\n",
        "    clear_output(wait=True)\n",
        "    plt.imshow(prod.T, cmap=\"gray\",vmin=-1,vmax=1,aspect='auto',extent=extent)\n",
        "    ax.set_title('Forward times residual wavefield t = '+str(step*sample_rate/1000)+' s')\n",
        "\n",
        "    plt.show()\n",
        "    sleep(0.03)\n",
        "  "
      ],
      "execution_count": null,
      "outputs": []
    },
    {
      "cell_type": "markdown",
      "metadata": {
        "id": "oIT_PSeOlM50"
      },
      "source": [
        "We then look at the summed contribution of all time steps for this shot. This is the cross-correlation of the forward and residual wavefields for shot 6. We end up with a pattern of positive and negative amplitudes that correspond to regions where the forward and residual wavefields are correlated."
      ]
    },
    {
      "cell_type": "code",
      "metadata": {
        "id": "GdoTYffVlM51"
      },
      "source": [
        "fig = plt.figure(figsize=(12, 5))\n",
        "ax1 = fig.add_subplot(1, 1, 1)\n",
        "extent = [0, nrecs*dx, time[-1], time[0]]  # define extent\n",
        "im=plt.imshow(xcorr.T, cmap=\"seismic\",aspect='auto',vmin=-50,vmax=50,extent=extent)\n",
        "ax1.set_title('Gradient contribution from shot '+str(shot))"
      ],
      "execution_count": null,
      "outputs": []
    },
    {
      "cell_type": "markdown",
      "metadata": {
        "id": "EcvGnDYAlM51"
      },
      "source": [
        "# The gradient\n",
        "\n",
        "If we sum together the contributions of all sources we get the gradient of the objective function or the unscaled model update. It shows a coherent pattern that resembles the layering in the true model. The blue and red areas are where the starting model was incorrect and we need to increase or decrease the seismic velocity.\n",
        "\n"
      ]
    },
    {
      "cell_type": "code",
      "metadata": {
        "id": "-qlkO2eXlM51"
      },
      "source": [
        "iteration=1\n",
        "iterstr=str(iteration).zfill(5)\n",
        "filename='Marm2D-CP'+iterstr+'-Grad.vtr'\n",
        "!./read_vtr <<< {filename} >& tmp\n",
        "\n",
        "xtratop=1\n",
        "xtrabot=50\n",
        "xtra1=50\n",
        "nx3w=nx3+xtratop+xtrabot\n",
        "nx1w=nx1+2*xtra1\n",
        "\n",
        "binfile=filename+\".bin\"\n",
        "grad=np.fromfile(binfile, dtype=np.float32)\n",
        "grad=np.reshape(grad,(nx1w,nx3w))\n",
        "grad=grad[xtra1:-xtra1,xtratop:-xtrabot]\n",
        "\n",
        "print(np.max(grad))\n",
        "\n",
        "fig = plt.figure(figsize=(12, 5))\n",
        "ax1 = fig.add_subplot(1, 1, 1)\n",
        "extent = [0, nrecs*dx, time[-1], time[0]]  # define extent\n",
        "ax1.imshow(grad.T, cmap=\"seismic\",aspect='auto',vmin=-0.1,vmax=0.1,extent=extent)\n",
        "ax1.set_xlabel('X (m)')\n",
        "ax1.set_ylabel('Z (m)')\n",
        "ax1.set_title('Gradient')"
      ],
      "execution_count": null,
      "outputs": []
    },
    {
      "cell_type": "markdown",
      "metadata": {
        "id": "h99JAulNlM51"
      },
      "source": [
        "# The step length\n",
        "\n",
        "After we calculate the gradient we can add a small perturbation to the starting model in the direction of the gradient. We then solve the forward problem one more time (recalculate the synthetic data) and recompute the residuals. This helps us determine the step length, i.e. the optimal magnitude of the model update. \n",
        "\n",
        "Once we have the step length we can update the model."
      ]
    },
    {
      "cell_type": "code",
      "metadata": {
        "id": "7prsKD33lM51"
      },
      "source": [
        "iteration=1\n",
        "iterstr=str(iteration).zfill(5)\n",
        "filename='Marm2D-CP'+iterstr+'-InvVp-Update.sgy'\n",
        "# Read the slowness update\n",
        "with segyio.open(filename, ignore_geometry=True) as f:\n",
        "    slowupdate = f.trace.raw[:] \n",
        "    depth = f.samples\n",
        "filename='Marm2D-CP'+iterstr+'-Vp.sgy'\n",
        "\n",
        "# Read Vp the model\n",
        "with segyio.open(filename, ignore_geometry=True) as f:\n",
        "    vp = f.trace.raw[:] \n",
        "    depth = f.samples\n",
        "# Calculate the Vp update\n",
        "vpupdate=slowupdate*vp*vp\n",
        "    \n",
        "fig = plt.figure(figsize=(14, 5))\n",
        "ax1 = fig.add_subplot(1, 1, 1)\n",
        "extent = [0, nrecs*dx, depth[-1], depth[0]]  # define extent\n",
        "im=ax1.imshow(vpupdate.T, cmap=\"seismic\", vmin=-30,vmax=30,aspect='auto',extent=extent)\n",
        "ax1.set_xlabel('X (m)')\n",
        "ax1.set_ylabel('Z (m)')\n",
        "ax1.set_title('Model update')\n",
        "fig.colorbar(im,label=\"dVp (m/s)\")"
      ],
      "execution_count": null,
      "outputs": []
    },
    {
      "cell_type": "markdown",
      "metadata": {
        "id": "v3mpyuHAlM52"
      },
      "source": [
        "# Iteration procedure\n",
        "\n",
        "Once we have updated the model we can iterate. In this case we have run 120 iterations. These are divided into blocks of 20 iterations. In each block we have increased the frequency of the signal that we allow, starting only with low frequencies. This ensures that we avoid cycle skipping and falling into local minima. \n",
        "\n",
        "Iterations | max frequency\n",
        "\n",
        "\n",
        "---\n",
        "\n",
        "1-20     |  3.0 Hz\n",
        "\n",
        "21-40    |  3.4 Hz\n",
        "\n",
        "41-60    |  3.9 Hz\n",
        "\n",
        "61-80    |  4.5 Hz\n",
        "\n",
        "81-100   |  5.2 Hz\n",
        "\n",
        "101-120  |  6.0 Hz\n",
        "\n",
        "Each iteration adds a bit more structure. We start with only the low frequency part of the data and then gradually add more of the signal as the inversion progresses.\n",
        "\n",
        "Go back to the wavefield box and look at the wavefiled animation for iteration 20, 60 and 120. You can do this by changing the variable \"iteration\" and rerunning the box. Notice how the wavefield for the later iterations contains a lot more features and particularly several strong reflections."
      ]
    },
    {
      "cell_type": "markdown",
      "metadata": {
        "id": "KMzsNvjxlM52"
      },
      "source": [
        "# Data match\n",
        "\n",
        "Here we look at how the data match has improved throughout the inversion. We plot the synthetics, data and residuals for iteration 1, 20, 60 and 120. Notice how by iteration 20 we can already predict the data very well. Subsequent iterations add higher frequency content and fit the smaller scale structure."
      ]
    },
    {
      "cell_type": "code",
      "metadata": {
        "id": "KJdTGTnzlM52"
      },
      "source": [
        "ntraces=nrecs*3\n",
        "x1=0\n",
        "x2=370\n",
        "ampmin=-0.2\n",
        "ampmax=0.2\n",
        "for step in [\"01\",\"20\",\"60\",\"120\"]:\n",
        "    filename='compare_6_'+step+'.bin'\n",
        "    traces=np.fromfile(filename, dtype=np.float32)\n",
        "    traces=np.reshape(traces,(ntraces,n_samples))\n",
        "    \n",
        "    fig = plt.figure(figsize=(15, 5))\n",
        "    ax1 = fig.add_subplot(1, 3, 1)\n",
        "    extent = [x1, x2*dx, time[-1], time[0]]  # define extent\n",
        "    ax1.imshow(traces.T[:,x1:x2], cmap=\"seismic\",vmin=ampmin,vmax=ampmax,aspect='auto',extent=extent)\n",
        "    ax1.set_xlabel('X (m)')\n",
        "    ax1.set_ylabel('t (ms)')\n",
        "    ax1.set_title('Synthetics, iteration '+str(step))\n",
        "    ax1 = fig.add_subplot(1, 3, 2)\n",
        "    extent = [x1, x2*dx, time[-1], time[0]]  # define extent\n",
        "    ax1.imshow(traces.T[:,nrecs+x1:nrecs+x2], cmap=\"seismic\",vmin=ampmin,vmax=ampmax,aspect='auto',extent=extent)\n",
        "    ax1.set_xlabel('X (m)')\n",
        "    ax1.set_ylabel('t (m)')\n",
        "    ax1.set_title('Data')\n",
        "    ax1 = fig.add_subplot(1, 3, 3)\n",
        "    extent = [x1, x2*dx, time[-1], time[0]]  # define extent\n",
        "    ax1.imshow(traces.T[:,2*nrecs+x1:2*nrecs+x2], cmap=\"seismic\",vmin=ampmin,vmax=ampmax,aspect='auto',extent=extent)\n",
        "    ax1.set_xlabel('X (m)')\n",
        "    ax1.set_ylabel('t (m)')\n",
        "    ax1.set_title('Residuals')"
      ],
      "execution_count": null,
      "outputs": []
    },
    {
      "cell_type": "markdown",
      "metadata": {
        "id": "F_RSpYaIlM53"
      },
      "source": [
        "# Trace match\n",
        "\n",
        "As a last check we look at how the trace match has improved. Notice that the final traces contain higher frequency because we have gradually increased the frequency bandwidth of the the data and source by adding higher frequencies as we progressed in the inversion."
      ]
    },
    {
      "cell_type": "code",
      "metadata": {
        "id": "gSl1sysSlM53"
      },
      "source": [
        "finaldatatrace=traces[nrecs+tracenum,:]\n",
        "finalsyntrace=traces[tracenum,:]\n",
        "\n",
        "fig = plt.figure(figsize=(12,7))\n",
        "ax1 = fig.add_subplot(211)\n",
        "ax1.plot(time,datatrace,'black')\n",
        "ax1.plot(time,syntrace,'blue')\n",
        "ax1.set_xlim(0,3000)\n",
        "ax1.set_ylim(np.min(datatrace),np.max(datatrace))\n",
        "ax1.set_ylabel('Amplitude')\n",
        "ax1.set_title('Initial trace comparison, iteration 1')\n",
        "\n",
        "ax2 = fig.add_subplot(212)\n",
        "ax2.plot(time,finaldatatrace,'black')\n",
        "ax2.plot(time,finalsyntrace,'blue')\n",
        "ax2.set_xlim(0,3000)\n",
        "ax2.set_ylim(np.min(finaldatatrace),np.max(finaldatatrace))\n",
        "ax2.set_ylabel('Amplitude')\n",
        "ax2.set_title('Final trace comparison, iteration 120')\n",
        "ax2.set_xlabel('Time(ms)')"
      ],
      "execution_count": null,
      "outputs": []
    },
    {
      "cell_type": "markdown",
      "metadata": {
        "id": "gq-gKxvGlM52"
      },
      "source": [
        "# Output velocity models\n",
        "\n",
        "We can then have a look at how the starting model has changed. The box below will plot a comparison of the true model and output model. You can change the variable \"iteration\" to plot the output model for different steps (choose for example iterations 20, 40, 60, 80, 100, 120 to look at the result after each block of iterations).\n"
      ]
    },
    {
      "cell_type": "code",
      "metadata": {
        "id": "EzfBRqk-lM52"
      },
      "source": [
        "iteration=120\n",
        "\n",
        "filename='Marm2D-TrueVp.sgy'\n",
        "with segyio.open(filename, ignore_geometry=True) as f:\n",
        "    vptrue = f.trace.raw[:]  # Get all data into memory (could cause issues on big files)\n",
        "\n",
        "iterstr=str(iteration).zfill(5)\n",
        "filename='Marm2D-CP'+iterstr+'-Vp.sgy'\n",
        "with segyio.open(filename, ignore_geometry=True) as f:\n",
        "    # Get basic attributes\n",
        "    depth = f.samples\n",
        "    vpstart = f.trace.raw[:]  # Get all data into memory (could cause issues on big files)\n",
        "\n",
        "fig = plt.figure(figsize=(14, 10))\n",
        "\n",
        "ax1 = fig.add_subplot(2, 1, 1)\n",
        "extent = [0, nrecs*dx, depth[-1], depth[0]]  # define extent\n",
        "im1=ax1.imshow(vptrue.T, cmap=\"plasma\", vmin=1500, vmax=5000, aspect='auto',extent=extent)\n",
        "ax1.set_xlabel('X (m)')\n",
        "ax1.set_ylabel('Z (m)')\n",
        "ax1.set_title('True model')\n",
        "plt.colorbar(im1,label=\"Vp (m/s)\")\n",
        "\n",
        "ax2 = fig.add_subplot(2, 1, 2)\n",
        "extent = [0, nrecs*dx, depth[-1], depth[0]]  # define extent\n",
        "im2=ax2.imshow(vpstart.T, cmap=\"plasma\", vmin=1500, vmax=5000, aspect='auto',extent=extent)\n",
        "ax2.set_xlabel('X (m)')\n",
        "ax2.set_ylabel('Z (m)')\n",
        "ax2.set_title('Iteration '+str(iteration))\n",
        "plt.colorbar(im2,label=\"Vp (m/s)\")\n"
      ],
      "execution_count": null,
      "outputs": []
    },
    {
      "cell_type": "markdown",
      "metadata": {
        "id": "wgTOCZV82KMQ"
      },
      "source": [
        "**Question 4.** Remembering that the theoretical resolution limit for full waveform inversion is half the wavelength, what is the expected best resolution for the final model (iteration 120 with data up to 6 Hz)? How does that compare to the resolution at the end of the first inversion block (iteration 20 with data up to 3 Hz)? Use the plot of the velocity model to determine the minimum and maximum velocity. This will allow you to calculate the wavelength.\n",
        "Compare this with the theoretical resolution of travel time tomography (given by the width of the Fresnel volume). Recall that the Fresnel volume is approximately equal to the square root of the product of the wavelength and the offset. Use the data plot to determine the minimum and maximum offset of refracted arrivals.\n",
        "\n",
        "This theoretical resolution limit corresponds to the \"physical resolution discussed in video 3 of session 5. It depends on the physical process that we measure. It does not account for the data distribution and the illumination of the target (the data resolution)."
      ]
    },
    {
      "cell_type": "markdown",
      "metadata": {
        "id": "pD2eiQOIlM53"
      },
      "source": [
        "# Final considerations\n",
        "\n",
        "**Question 5.** In question 5 you have determined the theoretical best resolution that you can expect from this inversion. How would you determine the \"model resolution\"?\n",
        "\n",
        "**Question 6.** Examine the comparison between the true model and the output model from iteration 120. Notice how the match varies spatially. What affects the variations in the quality of the model?\n",
        "\n",
        "**Question 7.** How could we improve the resolution of the final model?\n",
        "\n",
        "**Question 8.** The model extends to 3200 m depth. How coudl we image deeper?\n",
        "\n"
      ]
    }
  ]
}